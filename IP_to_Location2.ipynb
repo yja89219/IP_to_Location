{
 "cells": [
  {
   "cell_type": "code",
   "execution_count": 1,
   "metadata": {},
   "outputs": [],
   "source": [
    "class IP_to_Location():\n",
    "\n",
    "    def __init__(self, ip_list):\n",
    "        \"\"\"\n",
    "        Enter a list of IP addresses\n",
    "        \"\"\"\n",
    "        self.ip_list = ip_list\n",
    "    def ip_location(self):\n",
    "        \"\"\"\n",
    "        Activate the built-in web crawler to return the corresponding locations.\n",
    "        \"\"\"\n",
    "        from selenium import webdriver\n",
    "        #from webdriver_manager.chrome import ChromeDriverManager #For Mac OS users\n",
    "        import time\n",
    "\n",
    "        print('The program starts...')\n",
    "        start = time.time()\n",
    "        #driver = webdriver.Chrome(ChromeDriverManager().install()) #For Mac OS users\n",
    "        driver = webdriver.Chrome(executable_path=\"chromedriver.exe\") #For Windows users\n",
    "        driver.get('https://www.ez2o.com/App/Net/IP')\n",
    "\n",
    "        def location_getter(ip_addr):\n",
    "\n",
    "            elem = driver.find_element_by_xpath(\"//input[@id='QueryIP']\").clear()\n",
    "            elem = driver.find_element_by_xpath(\"//input[@id='QueryIP']\")\n",
    "            elem.send_keys(ip_addr) # ex: 218.173.71.162\n",
    "            elem = driver.find_element_by_xpath(\"//button[@class='btn btn-primary']\")\n",
    "            elem.click()\n",
    "            elem = driver.find_element_by_xpath(\"//tbody/tr[@class='active'][3]/td[2]\")\n",
    "            return elem.text\n",
    "\n",
    "        city_list = []\n",
    "        # Go backward so can print out countdown numbers\n",
    "        \n",
    "        for i in range(len(ip_list))[::-1]: \n",
    "            city_list.append(location_getter(ip_list[i-1]))\n",
    "            # Counting down\n",
    "            print(i)\n",
    "\n",
    "        driver.close()\n",
    "        end = time.time()\n",
    "\n",
    "        minute = round((end - start)/60)\n",
    "        second = round((end - start)%60)\n",
    "\n",
    "        print('Finished')\n",
    "        print('Total time:',minute,'m',second,'s')\n",
    "        return city_list"
   ]
  },
  {
   "cell_type": "code",
   "execution_count": 9,
   "metadata": {},
   "outputs": [],
   "source": [
    "ip_list =['58.114.159.177',\n",
    " '49.216.9.16',\n",
    " '49.159.145.223',\n",
    " '111.255.23.242',\n",
    " '125.231.164.227']#,\n",
    "#  ,\n",
    "#  '111.185.169.102',\n",
    "#  '111.239.55.143',\n",
    "#  '116.59.207.126',\n",
    "#  '123.194.32.245',\n",
    "#  '39.10.105.116',\n",
    "#  '219.70.117.97',\n",
    "#  '36.225.223.14',\n",
    "#  '61.65.118.57',\n",
    "#  '1.170.5.242',\n",
    "#  '114.45.167.52',\n",
    "#  '220.134.201.135',\n",
    "#  '36.232.182.125',\n",
    "#  '114.32.38.61',\n",
    "#  '125.230.107.126',\n",
    "#  '114.34.197.130',\n",
    "#  '111.71.53.93',\n",
    "#  '1.161.214.134',\n",
    "#  '218.35.185.221',\n",
    "#  '114.34.214.84',\n",
    "#  '36.230.70.71',\n",
    "#  '61.230.20.188',\n",
    "#  '175.182.10.194',\n",
    "#  '123.194.32.245',\n",
    "#  '123.194.181.213',\n",
    "#  '220.130.135.110',\n",
    "#  '223.140.138.88',\n",
    "#  '36.225.127.118',\n",
    "#  '210.128.103.21',\n",
    "#  '114.45.70.212',\n",
    "#  '150.116.252.71',\n",
    "#  '220.137.123.32',\n",
    "#  '42.75.8.56',\n",
    "#  '223.137.13.4',\n",
    "#  '61.223.15.225',\n",
    "#  '111.82.12.176',\n",
    "#  '150.116.252.71',\n",
    "#  '111.241.107.14',\n",
    "#  '101.8.146.208',\n",
    "#  '180.204.194.91',\n",
    "#  '123.194.76.137',\n",
    "#  '122.117.150.8',\n",
    "#  '111.255.25.63',\n",
    "#  '36.238.207.62',\n",
    "#  '1.163.235.156',\n",
    "#  '49.219.180.97',\n",
    "#  '180.217.250.11',\n",
    "#  '111.239.69.10',\n",
    "#  '223.140.69.222',\n",
    "#  '59.115.131.113',\n",
    "#  '218.35.185.221',\n",
    "#  '59.115.131.113',\n",
    "#  '219.84.187.200',\n",
    "#  '117.19.176.50',\n",
    "#  '36.229.24.119',\n",
    "#  '61.231.166.181',\n",
    "#  '218.173.109.78',\n",
    "#  '39.10.62.147',\n",
    "#  '118.171.65.169',\n",
    "#  '120.119.112.221']"
   ]
  },
  {
   "cell_type": "code",
   "execution_count": 10,
   "metadata": {},
   "outputs": [],
   "source": [
    "test1 = IP_to_Location(ip_list)"
   ]
  },
  {
   "cell_type": "code",
   "execution_count": 11,
   "metadata": {},
   "outputs": [
    {
     "data": {
      "text/plain": [
       "5"
      ]
     },
     "execution_count": 11,
     "metadata": {},
     "output_type": "execute_result"
    }
   ],
   "source": [
    "len(test1.ip_list)"
   ]
  },
  {
   "cell_type": "code",
   "execution_count": 12,
   "metadata": {},
   "outputs": [
    {
     "name": "stdout",
     "output_type": "stream",
     "text": [
      "The program starts...\n",
      "4\n",
      "3\n",
      "2\n",
      "1\n",
      "0\n",
      "Finished\n",
      "Total time: 0 m 16 s\n"
     ]
    }
   ],
   "source": [
    "city_list = test1.ip_location()"
   ]
  },
  {
   "cell_type": "code",
   "execution_count": 13,
   "metadata": {},
   "outputs": [
    {
     "data": {
      "text/plain": [
       "['Tainan City', 'Taipei', 'Taipei', 'Tainan City', 'Miaoli']"
      ]
     },
     "execution_count": 13,
     "metadata": {},
     "output_type": "execute_result"
    }
   ],
   "source": [
    "city_list"
   ]
  },
  {
   "cell_type": "code",
   "execution_count": null,
   "metadata": {},
   "outputs": [],
   "source": []
  }
 ],
 "metadata": {
  "kernelspec": {
   "display_name": "Python 3",
   "language": "python",
   "name": "python3"
  },
  "language_info": {
   "codemirror_mode": {
    "name": "ipython",
    "version": 3
   },
   "file_extension": ".py",
   "mimetype": "text/x-python",
   "name": "python",
   "nbconvert_exporter": "python",
   "pygments_lexer": "ipython3",
   "version": "3.7.3"
  }
 },
 "nbformat": 4,
 "nbformat_minor": 2
}
